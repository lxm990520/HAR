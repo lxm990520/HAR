{
 "cells": [
  {
   "cell_type": "code",
   "execution_count": 33,
   "metadata": {},
   "outputs": [],
   "source": [
    "import json\n",
    "import os\n",
    "import csv\n",
    "ROOTDIR = os.getcwd()"
   ]
  },
  {
   "cell_type": "code",
   "execution_count": 34,
   "metadata": {},
   "outputs": [],
   "source": [
    "#==============listallfile===================\n",
    "files = []\n",
    "files_dir = os.path.join(ROOTDIR,'MHEALTHDATASET')\n",
    "list_file = os.listdir(files_dir)\n",
    "for i in range(0,len(list_file)):\n",
    "    path = os.path.join(files_dir,list_file[i])\n",
    "    \n",
    "    if os.path.isfile(path) and path.endswith('.log'):\n",
    "        files.append(path)\n",
    "#print (files)"
   ]
  },
  {
   "cell_type": "code",
   "execution_count": 35,
   "metadata": {},
   "outputs": [],
   "source": [
    "def read_log(filename):\n",
    "    user_list = []\n",
    "    with open(filename,'r') as file_to_read:\n",
    "        for line in file_to_read.readlines():\n",
    "            listFromLine = line.split()\n",
    "            user_list.append(listFromLine)\n",
    "    return user_list"
   ]
  },
  {
   "cell_type": "code",
   "execution_count": 98,
   "metadata": {},
   "outputs": [],
   "source": [
    "def mkdir(path):\n",
    "    path=path.strip()\n",
    "    path=path.rstrip(\"\\\\\")\n",
    "    isExists=os.path.exists(path)\n",
    "    if not isExists:\n",
    "        os.makedirs(path) \n",
    "        print(path+' 创建成功')\n",
    "        return True\n",
    "    else:\n",
    "        print(path+' 目录已存在')\n",
    "        return False"
   ]
  },
  {
   "cell_type": "code",
   "execution_count": 36,
   "metadata": {},
   "outputs": [],
   "source": [
    "text = read_log(files[0])"
   ]
  },
  {
   "cell_type": "code",
   "execution_count": 37,
   "metadata": {},
   "outputs": [],
   "source": [
    "def write_to_csv(filename,data):\n",
    "    data\n",
    "    file = open(filename,'w')\n",
    "    writer = csv.writer(file)\n",
    "    data "
   ]
  },
  {
   "cell_type": "code",
   "execution_count": 39,
   "metadata": {},
   "outputs": [],
   "source": [
    "import pandas as pd\n"
   ]
  },
  {
   "cell_type": "code",
   "execution_count": 88,
   "metadata": {},
   "outputs": [
    {
     "data": {
      "text/plain": [
       "'C:\\\\Users\\\\ngb\\\\Desktop\\\\LXM\\\\HAR\\\\MHEALTHDATASET'"
      ]
     },
     "execution_count": 88,
     "metadata": {},
     "output_type": "execute_result"
    }
   ],
   "source": [
    "files_dir"
   ]
  },
  {
   "cell_type": "code",
   "execution_count": 116,
   "metadata": {},
   "outputs": [],
   "source": [
    "USERS = ['1','2','3','4','5','6','7','8','9','10']\n",
    "GT_TYPES = ['Null', 'Standing still', 'Sitting and relaxing', 'Lying down','Walking',\n",
    "            'Climbing stairs', 'Waist bends forward', 'Frontal elevation of arms',\n",
    "            'Knees bending (crouching)', 'Cycling', 'Jogging', 'Running', \n",
    "            'Jump front & back']\n",
    "SENSOR_LIST = ['Acc1', 'Electro1', 'Electro2', 'Acc2', \n",
    "               'Gyro1', 'Magnet1', 'Acc3', 'Gyro2', 'Magnet2']\n",
    "HEADER_DICT = {'Acc1': ['Acc1_x', 'Acc1_y', 'Acc1_z'], \n",
    "               'Electro1':['Electro1'], \n",
    "               'Electro2':['Electro2'], \n",
    "               'Acc2': ['Acc2_x', 'Acc2_y', 'Acc2_z'], \n",
    "               'Gyro1': ['Gyro1_x', 'Gyro1_y', 'Gyro1_z'], \n",
    "               'Magnet1': ['Magnet1_x', 'Magnet1_y', 'Magnet1_z'], \n",
    "               'Acc3': ['Acc3_x', 'Acc3_y', 'Acc3_z'], \n",
    "               'Gyro2': ['Gyro2_x', 'Gyro2_y', 'Gyro2_z'], \n",
    "               'Magnet2': ['Magnet2_x', 'Magnet2_y', 'Magnet2_z'],\n",
    "               'Label': 'Label'}\n",
    "HEADER_LIST = ['Acc1_x', 'Acc1_y', 'Acc1_z', \n",
    "               'Electro1', 'Electro2', \n",
    "               'Acc2_x', 'Acc2_y', 'Acc2_z', \n",
    "               'Gyro1_x', 'Gyro1_y', 'Gyro1_z', \n",
    "               'Magnet1_x', 'Magnet1_y', 'Magnet1_z', \n",
    "               'Acc3_x', 'Acc3_y', 'Acc3_z', \n",
    "               'Gyro2_x', 'Gyro2_y', 'Gyro2_z', \n",
    "               'Magnet2_x', 'Magnet2_y', 'Magnet2_z',\n",
    "               'Label']"
   ]
  },
  {
   "cell_type": "code",
   "execution_count": 52,
   "metadata": {},
   "outputs": [],
   "source": [
    "df = pd.read_table(files[0],names = HEADER_LIST)"
   ]
  },
  {
   "cell_type": "code",
   "execution_count": 80,
   "metadata": {},
   "outputs": [],
   "source": [
    "subdf = df[df.Label == GT_TYPES.index('Waist bends forward')]\n"
   ]
  },
  {
   "cell_type": "code",
   "execution_count": 92,
   "metadata": {},
   "outputs": [
    {
     "data": {
      "text/plain": [
       "['C:\\\\Users\\\\ngb\\\\Desktop\\\\LXM\\\\HAR\\\\MHEALTHDATASET\\\\mHealth_subject1.log',\n",
       " 'C:\\\\Users\\\\ngb\\\\Desktop\\\\LXM\\\\HAR\\\\MHEALTHDATASET\\\\mHealth_subject10.log',\n",
       " 'C:\\\\Users\\\\ngb\\\\Desktop\\\\LXM\\\\HAR\\\\MHEALTHDATASET\\\\mHealth_subject2.log',\n",
       " 'C:\\\\Users\\\\ngb\\\\Desktop\\\\LXM\\\\HAR\\\\MHEALTHDATASET\\\\mHealth_subject3.log',\n",
       " 'C:\\\\Users\\\\ngb\\\\Desktop\\\\LXM\\\\HAR\\\\MHEALTHDATASET\\\\mHealth_subject4.log',\n",
       " 'C:\\\\Users\\\\ngb\\\\Desktop\\\\LXM\\\\HAR\\\\MHEALTHDATASET\\\\mHealth_subject5.log',\n",
       " 'C:\\\\Users\\\\ngb\\\\Desktop\\\\LXM\\\\HAR\\\\MHEALTHDATASET\\\\mHealth_subject6.log',\n",
       " 'C:\\\\Users\\\\ngb\\\\Desktop\\\\LXM\\\\HAR\\\\MHEALTHDATASET\\\\mHealth_subject7.log',\n",
       " 'C:\\\\Users\\\\ngb\\\\Desktop\\\\LXM\\\\HAR\\\\MHEALTHDATASET\\\\mHealth_subject8.log',\n",
       " 'C:\\\\Users\\\\ngb\\\\Desktop\\\\LXM\\\\HAR\\\\MHEALTHDATASET\\\\mHealth_subject9.log']"
      ]
     },
     "execution_count": 92,
     "metadata": {},
     "output_type": "execute_result"
    }
   ],
   "source": [
    "for User in USERS:\n",
    "    df_src = pd.read_table(files[eval(User), names = HEADER_LIST])\n",
    "    user_dir = os.path.join(file_dir,'User_' + User)\n",
    "    for Type in GT_TYPES:\n",
    "        subdf = df[df.Label == GT_TYPES.index(Type)]\n",
    "        for Sensor in SENSOR_LIST:\n",
    "            outfile_name = 'User_' + User + '_' + Sensor + '_' + Type\n",
    "            df_dst = subdf[HEADER_DICT['Acc2']+['Label']]\n",
    "            df_dst.to_csv(os.path.join(user_dir, outfile_name + '.csv'))"
   ]
  },
  {
   "cell_type": "code",
   "execution_count": 117,
   "metadata": {},
   "outputs": [
    {
     "name": "stdout",
     "output_type": "stream",
     "text": [
      "C:\\Users\\ngb\\Desktop\\LXM\\HAR\\MHEALTHDATASET\\User_1 目录已存在\n",
      "C:\\Users\\ngb\\Desktop\\LXM\\HAR\\MHEALTHDATASET\\User_2 创建成功\n",
      "C:\\Users\\ngb\\Desktop\\LXM\\HAR\\MHEALTHDATASET\\User_3 创建成功\n",
      "C:\\Users\\ngb\\Desktop\\LXM\\HAR\\MHEALTHDATASET\\User_4 创建成功\n",
      "C:\\Users\\ngb\\Desktop\\LXM\\HAR\\MHEALTHDATASET\\User_5 创建成功\n",
      "C:\\Users\\ngb\\Desktop\\LXM\\HAR\\MHEALTHDATASET\\User_6 创建成功\n",
      "C:\\Users\\ngb\\Desktop\\LXM\\HAR\\MHEALTHDATASET\\User_7 创建成功\n",
      "C:\\Users\\ngb\\Desktop\\LXM\\HAR\\MHEALTHDATASET\\User_8 创建成功\n",
      "C:\\Users\\ngb\\Desktop\\LXM\\HAR\\MHEALTHDATASET\\User_9 创建成功\n",
      "C:\\Users\\ngb\\Desktop\\LXM\\HAR\\MHEALTHDATASET\\User_10 创建成功\n"
     ]
    }
   ],
   "source": [
    "for User in USERS:\n",
    "    df_src = pd.read_table(os.path.join(files_dir, 'mHealth_subject' + User + '.log'), names = HEADER_LIST)\n",
    "    user_dir = os.path.join(files_dir,'User_' + User)\n",
    "    mkdir(user_dir)\n",
    "    for Type in GT_TYPES:\n",
    "        subdf = df_src[df_src.Label == GT_TYPES.index(Type)]\n",
    "        for Sensor in SENSOR_LIST:\n",
    "            outfile_name = 'User_' + User + '_' + Sensor + '_' + Type\n",
    "            df_dst = subdf[HEADER_DICT[Sensor]+['Label']]\n",
    "            df_dst.to_csv(os.path.join(user_dir, outfile_name + '.csv'))"
   ]
  },
  {
   "cell_type": "code",
   "execution_count": 118,
   "metadata": {},
   "outputs": [],
   "source": [
    "str = \"1_Climbing stairs_Acc1_0.jpg\""
   ]
  },
  {
   "cell_type": "code",
   "execution_count": 122,
   "metadata": {},
   "outputs": [
    {
     "data": {
      "text/plain": [
       "'0'"
      ]
     },
     "execution_count": 122,
     "metadata": {},
     "output_type": "execute_result"
    }
   ],
   "source": [
    "str.split('_')[-1].split('.')[0]"
   ]
  },
  {
   "cell_type": "code",
   "execution_count": null,
   "metadata": {},
   "outputs": [],
   "source": []
  }
 ],
 "metadata": {
  "kernelspec": {
   "display_name": "Python 3",
   "language": "python",
   "name": "python3"
  },
  "language_info": {
   "codemirror_mode": {
    "name": "ipython",
    "version": 3
   },
   "file_extension": ".py",
   "mimetype": "text/x-python",
   "name": "python",
   "nbconvert_exporter": "python",
   "pygments_lexer": "ipython3",
   "version": "3.7.4"
  }
 },
 "nbformat": 4,
 "nbformat_minor": 2
}
